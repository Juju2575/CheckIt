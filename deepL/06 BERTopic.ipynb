{
 "cells": [
  {
   "attachments": {},
   "cell_type": "markdown",
   "metadata": {},
   "source": [
    "<h1> Imports"
   ]
  },
  {
   "cell_type": "code",
   "execution_count": 173,
   "metadata": {},
   "outputs": [
    {
     "name": "stderr",
     "output_type": "stream",
     "text": [
      "[nltk_data] Downloading package stopwords to C:\\nltk_data...\n",
      "[nltk_data]   Package stopwords is already up-to-date!\n",
      "[nltk_data] Downloading package wordnet to C:\\nltk_data...\n",
      "[nltk_data]   Package wordnet is already up-to-date!\n",
      "[nltk_data] Downloading package punkt to C:\\nltk_data...\n",
      "[nltk_data]   Package punkt is already up-to-date!\n"
     ]
    }
   ],
   "source": [
    "from bertopic import BERTopic\n",
    "from bertopic.vectorizers import ClassTfidfTransformer\n",
    "\n",
    "import pandas as pd\n",
    "from sklearn.cluster import KMeans\n",
    "from sklearn.feature_extraction.text import CountVectorizer\n",
    "\n",
    "from nltk import word_tokenize, WordNetLemmatizer\n",
    "from nltk.corpus import stopwords\n",
    "import nltk\n",
    "import re \n",
    "nltk.download('stopwords')\n",
    "nltk.download('wordnet')\n",
    "nltk.download('punkt')\n",
    "\n",
    "import seaborn as sns\n",
    "\n",
    "import numpy as np"
   ]
  },
  {
   "cell_type": "code",
   "execution_count": 174,
   "metadata": {},
   "outputs": [],
   "source": [
    "kmean = True"
   ]
  },
  {
   "cell_type": "code",
   "execution_count": 175,
   "metadata": {},
   "outputs": [],
   "source": [
    "data = pd.read_csv('datasets/news-article-categories_v2.csv')\n",
    "data.dropna(inplace=True)\n",
    "data.reset_index(drop=True, inplace=True)"
   ]
  },
  {
   "cell_type": "code",
   "execution_count": 176,
   "metadata": {},
   "outputs": [
    {
     "name": "stdout",
     "output_type": "stream",
     "text": [
      "<class 'pandas.core.frame.DataFrame'>\n",
      "RangeIndex: 6872 entries, 0 to 6871\n",
      "Data columns (total 3 columns):\n",
      " #   Column    Non-Null Count  Dtype \n",
      "---  ------    --------------  ----- \n",
      " 0   category  6872 non-null   object\n",
      " 1   title     6872 non-null   object\n",
      " 2   body      6872 non-null   object\n",
      "dtypes: object(3)\n",
      "memory usage: 161.2+ KB\n"
     ]
    }
   ],
   "source": [
    "data.info()"
   ]
  },
  {
   "cell_type": "code",
   "execution_count": 177,
   "metadata": {},
   "outputs": [],
   "source": [
    "data[\"content\"] = data[\"title\"] + \". \" + data[\"body\"]"
   ]
  },
  {
   "cell_type": "code",
   "execution_count": 178,
   "metadata": {},
   "outputs": [
    {
     "data": {
      "text/plain": [
       "'Modeling Agencies Enabled Sexual Predators For Years, Former Agent Says. In October 2017, Carolyn Kramer received a disturbing phone call. The former modeling agent listened intently as a model she used to represent told her that a famous French photographer, who still shoots for top publications, raped her when she was 16. Shortly after meeting the man at a restaurant in 1983, the model said she blacked out after drinking one glass of champagne, then woke up in his bed the next morning with a sore and bruised vagina. The woman, who preferred to remain anonymous, confirmed this story with HuffPost, but did not want to name the photographer for fear of legal repercussions. “He was one of the photographers that agents and clients and young girls basically knew was lecherous,” Kramer said,\\xa0claiming that she and other agents sent their models to him in the ’80s anyway. “[But] what I didn’t realize [at the time] is that he was raping girls.”\\xa0 Kramer said she broke down crying after the woman relayed her story of assault. “In that moment I felt that I let down the models who I represented over the course of 20 years,” she said. “It made me feel like, here it is in front of my face now and I didn’t do anything to change [it.]” It’s been 14 years since Kramer left the fashion business. But throughout the two decades she spent working as a modeling agent in New York City in the 1980s, ’90s and early 2000s, Kramer said she knew about rampant sexual misconduct in her industry ―\\xa0and didn’t protect her models from the egregious behavior. Now, amid\\xa0the domino-like fall of so\\xa0many\\xa0high-profile\\xa0alleged sexual offenders, the 58-year-old\\xa0can’t stop thinking about how she and other agents sent girls, some as young as 13,\\xa0to modeling gigs with photographers who were rumored to be sexual predators. So in October, the former agent decided to speak out.\\xa0 “Many of these girls who are assaulted [as models] aren’t older than 15 years old,”\\xa0she wrote in a Facebook post. “And I stand here to say how ashamed I am of myself for not having had the tools or the resources or guts to stop it.” Kramer’s peers queued up in the post’s comments section to corroborate her story.\\xa0One of her former colleagues, ex-model Kristen Noel, said her agency, Elite Model Management, sent her to Paris in the early ’80s to stay with an agent who repeatedly groped and forcibly kissed her. She was 16. “Elite protected him and disconnected from their responsibility to me,” Noel told HuffPost.\\xa0 Another commenter, hair and makeup artist Dawn Jacobson, said she saw agencies regularly endanger models when she worked in Milan in the ’80s. According to her, companies sent young women to live in residences ― one of which was reportedly known as “Clitoride,” Italian for “clitoris” ―\\xa0where they were preyed on by wealthy Italian men. “I think the agencies have massive culpability because they don’t necessarily care about anything other than who gets the booking,” the 59-year-old, who still works in fashion, told HuffPost. “It becomes a little bit of a human trafficking kind of thing.” Kramer’s post,\\xa0her first public denouncement of the sexual harassment and abuse she’d witnessed and heard about in the fashion industry, clearly struck a nerve.\\xa0As the #MeToo revolution continues to spark a national dialogue on sexual misconduct, the former agent wants to expose exactly how the very modeling agencies she worked for enabled predators, a disturbing reality that she believes still exists today.\\xa0 Kramer, a New Jersey native, doesn’t seem like the type to stay silent. She has a self-described “big personality” and speaks bluntly with a slight New York accent.\\xa0In a recent Facebook profile photo, she’s wearing a shirt that reads “Fuck Trump” and raising her middle finger. But since she retired from the fashion world in 2004, Kramer said she felt like nobody ― primarily, the media ―\\xa0was interested in what she had to say.\\xa0 Only recently, the former agent noted, have news outlets begun systematically covering the kinds of abuse allegations she wants to condemn.\\xa0It’s true that sexual assault accusations made against fashion photographer Terry Richardson date back to 2001,\\xa0and that he was only officially dropped by certain top magazines and brands\\xa0in October 2017.\\xa0(Richardson has long denied any nonconsensual behavior.) And while at least 18 current and former male models\\xa0recently accused famed photographer Bruce Weber of sexual harassment (Weber has denied these claims), one of whom has filed a lawsuit, industry insiders claim there is a long list of predators who still thrive in a largely unregulated profession that combines young models, big male egos and drugs.\\xa0 Kramer’s story dates back to 1983, when she was hired by the industry’s top agency, Elite Model Management, as an assistant booking agent in New York. Her\\xa0previous fashion industry jobs had been horrible. Kramer once worked with a photographer who she said cornered her in his office and tried to forcibly kiss her. And she worked for\\xa0Foster-Fell Model Management,\\xa0which she called a “slimy, horrible” agency.  “The models were basically prostitutes,” she said. ”[The owner] would have parties I would be at with licentious business men who were only there to fuck the models.” (Jeremy Foster-Fell, who co-founded the now-defunct agency in 1970,\\xa0denied these claims to HuffPost. “To say there was an arrangement of financial exchange and sexual favors would be completely out of whack,” he said, adding, however, that “if you’re looking after a whole bunch of good-looking ladies who are running around Manhattan, you’re going to be running into trouble here and there sometimes.”)\\xa0 But at 24, Kramer found herself employed by the modeling world’s gold standard,\\xa0an agency that represented Cindy Crawford and Linda Evangelista,\\xa0where she didn’t expect to encounter abusive men. Her transition to Elite was “like going from community college to Harvard,” she said. Sadly,\\xa0Kramer’s optimism was quickly dashed.  At Elite New York,\\xa0her job frequently involved booking models on “go-sees,” the name for appointments during which photographers or designers scout new faces for upcoming shoots. In these meetings, vulnerable young women’s success often depends on impressing (mostly) powerful men. Kramer said she and other Elite agents would send models, who in many cases were under 16 and had never been to New York City, on appointments with nothing more than subway fare and a map. According to Kramer, the girls mostly went alone, because at the time there were no laws requiring guardians to accompany underage models on shoots. New York passed a bill in 2013 that, among other things, requires models under 16 to have chaperones. But before that, a 2012 study by Model Alliance, an organization that advocates for labor rights in fashion, found that 52 percent of models are rarely or never accompanied by guardians to a shoot, despite the fact that the majority of models start working between age 13 and 16. Kramer quickly learned about the perils of go-sees and photo shoots.\\xa0Though the former agent says that the models she represented at the time didn’t tell her directly about being sexually harassed or assaulted by photographers\\xa0― likely, she said, because they were terrified of losing job opportunities ― Kramer soon heard through industry gossip with colleagues who the predators were. “I wouldn’t have even called it a secret,” she said. “It was just sort of common hearsay that this list of photographers were pigs...I had to make the appointments with [these men]. It would make me gag, but I had to do my job or I’d be fired.”\\xa0 Another Elite employee,\\xa0Marie Anderson Boyd, who was an agent and vice president at the company’s Chicago office between 1985 and 1990, said models would regularly tell her about the sexual misconduct they experienced on go-sees. ”[Some photographers] will think nothing of walking over to some teen girl who’s brand new to the business, taking her top off, unbuttoning her bra and saying something like, ‘I want you to look at me and think of ... giving me oral sex,’” she said. “And a lot of girls have never even done that [before], so they don’t even know what the [photographers] mean.”  Anderson Boyd said she never told her managers at Elite about the models’ abusive stories, in part because executives like John Casablancas and Gerald Marie also allegedly engaged in misconduct. “They established a culture of compliance with sexually predatory behavior,” she said. “That trickled down into everything everybody did.”\\xa0 Indeed, during Kramer’s first year at Elite,\\xa0the agency’s late founder, the then-41-year-old Casablancas, was having a public affair with an underage model named Stephanie Seymour. Kramer was horrified that Casablancas, with his movie-star good looks and “intoxicating” charisma, was committing statutory rape.  “As a young little upstart, I was very in awe of him,” she said. “But at the same time I’m thinking to myself, Stephanie’s supposed to be at a Vogue shooting at 9 a.m. and she’s still in bed with John. I thought it was wrong and I honestly couldn’t believe it went on. It made me sick.” Other alleged abuses at Elite unfurled from there. Gerald Marie, the head of Elite Paris, was in his 30s when he\\xa0allegedly raped a 17-year-old model named Carré Otis on multiple occasions, which she detailed in her 2011 memoir. At the time, Otis was temporarily staying with him while she was modeling abroad in the mid-’80s. She didn’t feel as though she could tell the agency about the abuse.  “When [Elite] New York said goodbye to me and put me in Gerald’s apartment, he was like my new owner,” Otis told HuffPost. “There was no one in New York who created a connection with me and said, ‘Hey, here’s the way it should go, and if it doesn’t go this way, here’s a number to call.’ It was just really a hand-off.” “There was a below-the-radar understanding that the\\xa0[executives] of Elite [Casablancas and Marie] were sleeping with young women,” Kramer said. “I’m working at an agency where statutory rape is in front of my face and yet I can’t do anything.” Kramer said at 24 she herself was groped by a high-profile agent who went on to become an Elite executive. “I was sitting on his lap and his hands were all over me, coming around [my waist] and trying to grab my breast,” she said. “I didn’t react because I was so accustomed to seeing photographers be touchy-feely with models.” Kramer did not tell anyone at Elite about the misconduct, because she said it never occurred to her that such commonplace behavior was worth reporting, never mind addressing. And those who tried to call out problematic behavior didn’t get very far.\\xa0In 2000, Anderson Boyd told New York Magazine that she remembered watching\\xa0two female executives plead with Marie and Casablancas to stop sleeping with underage women.\\xa0Anderson Boyd says Marie’s response was, “We are men. We have our needs.” “I was grossed out by what was happening,” the 59-year-old told HuffPost. “And that’s why I quit.” Ultimately, Anderson Boyd and Kramer agreed that Elite never trained agents to speak with models about sexual misconduct. Both women say they and other agents they knew did not prepare models for how to deal with predatory behavior.\\xa0\\xa0 “It was not handled like a traditional corporation where you’re handed a sexual harassment manual,” Anderson Boyd said. “I did not know how to help [the models’] working conditions.” Their account matches the experiences of women at other agencies at the time. For example, when former model Lesa Amoore was 17, she said her agent at the now-defunct Riccardo Gay Model Management company warned her that a photographer she was about to shoot with in Milan could “be a little weird.” Amoore said that during the subsequent shoot, when she was wearing only a bra and underwear, the photographer unzipped his pants, pulled out his penis and asked whether he could masturbate. According to the former model, now 48, she put on her clothes and ran out of the room. Amoore said that when she told her agent about the photographer’s behavior, he responded,\\xa0“I’m so sorry, that happens sometimes with him.” Sara Ziff, who began modeling at age 14 in the late ’90s and later founded Model Alliance,\\xa0told The New York Times\\xa0last year that she too was regularly asked by photographers to get naked or topless without prior warning and, in at least one instance, was told to sit on her male booker’s lap.\\xa0 “When I first started modeling, I did not feel protected by my agency [Next Management],” she told HuffPost. “In some cases, I felt like they were facilitating meetings [with powerful people] that were not clearly work opportunities ― they felt more like being set up on a date.” Though the modeling industry is now\\xa0more regulated\\xa0than it was in decades past, abuse is reportedly still frequent.\\xa0A whopping 87 percent of models say they’ve been asked to get naked without prior warning, while 30 percent have experienced “inappropriate touching” on the job and 28 percent have been pressured to have sex at work, according to\\xa0Model Alliance. Model\\xa0Cameron Russell’s\\xa0Instagram\\xa0is filled with her own colleagues’ stories of being preyed on at go-sees and shoots. A 22-year-old model\\xa0wrote about\\xa0how a male photographer pulled down her bra and started kissing her breasts six months ago. Another woman\\xa0recalled\\xa0how, as a 14-year-old model, a photographer made her change in front of him, rubbed oil on her legs, and, after asking if she was a virgin, said, “You make me want to go to jail.” The collection of horror stories portrays male photographers\\xa0masturbating\\xa0in front of young models, asking for sexual favors, and, in one case,\\xa0penetrating\\xa0a 15-year-old with his finger to make the photos “look more sensual.” Ziff said that beyond adhering to the 2013 bill, even the best-intentioned agencies still don’t have firm policies in place to protect their models from sexual misconduct. “They tell the girls that if they are in a situation that feels uncomfortable: ‘Go to the bathroom and walk out,’ ‘Feel free to call me,’ and ‘You don’t have to do anything you don’t want to do,’” the 35-year-old explained. “[They should] take a preventative approach that doesn’t allow those situations to happen in the first place. It’s much easier said than done to walk out of a shoot, especially if you’re young, maybe English isn’t your first language, and you’re working with someone who could make or break your career.”\\xa0 In fact,\\xa0Model Alliance\\xa0found that 70 percent of models surveyed didn’t feel they could report sexual misconduct to their agencies. Of those who did,\\xa0two-thirds said\\xa0their agents didn’t consider the behavior problematic, and, in a few cases, even encouraged models to sleep with predators to advance their careers.\\xa0 Model Jason Boyce, who filed a lawsuit against Bruce Weber for sexual misconduct last year, is also suing his agency, Soul Artist Management. According to the court filing, Boyce claimed the agency knew about Weber’s predatory behavior and alleged that his agent told him to “nail” his shoot with the famous photographer. “The culture was: You did what you were told. That was how they sold it,” he said in an interview with\\xa0The Business of Fashion. “If you do what I tell you, you’ll make it. ... My agent told me that all the time.” Jilian Gotlib, a manager and booking agent who worked for Elite in the ’80s and re-joined the company in 2005, spoke to HuffPost on behalf of the organization. She disputed Kramer’s assertion that agents knowingly sent models to photographers who were rumored to be sexual predators, suggesting that Kramer\\xa0“goes overboard, maybe, with criticizing the industry.” “We would always be careful, check out [the photographer] and tell our models, ‘If [the photographers] ask you to do anything that we didn’t tell you was going to happen, let us know,’” she explained. “Some girls would just go ahead anyway, but we would always warn people: ‘Call me if anything seems untoward.’\\xa0I think we would try not to work with a lot of those photographers if we heard problems.” Trudi Tapscott, who worked as an agent and director at Elite from the early ’80s until the early ’90s,\\xa0reiterated Gotlib’s point, explaining that she told young women about potentially creepy photographers ahead of time.\\xa0“I’ve had very honest conversations [about] what to do when [photographers] do this and what to do when [photographers] do that,” she told HuffPost. However, Tapscott added: “At this point I consider [those conversations] complicit. But then I thought I was helping them survive, which sounds so stupid now.” As for alleged in-house predators such as Marie, Gotlib said, “I knew nothing about anything that might have been going on there.”\\xa0 Throughout her career Kramer worked at four other agencies ― the now-defunct Name Management and Company Management, as well as Next Management and the Marilyn Model Agency ― where she said she also regularly witnessed young girls being preyed on at dinner parties and clubs. She said agencies organized events at hot spots such as New York’s Indochine or the Ritz in Paris, where models mingled in clouds of cigarette smoke with important editors and photographers who could “make or break careers.” “I saw 14- and 15-year-olds sitting on the laps of these photographers,” she said. “These guys would just have their hands all over these girls.” Ultimately, Kramer said she didn’t think she could call out the complicit behavior without losing her job.\\xa0“Working for Elite [and the other agencies] manipulated me into thinking it was OK,” she said. “I’m not trying to squiggle out of this, by the way. I’m sick to my stomach that I was part of this poison. It sickens me.”\\xa0 Representatives for Next Management and the Marilyn Model Agency did not respond to HuffPost’s request for comment. Kramer left the industry in 2004 when she was working at the Marilyn Model Agency, saying she was disgusted by how young the models had become. But the former agent said she didn’t process the sexual misconduct ― or her role in enabling it ― until the following year, when she planned to\\xa0write a book about her career. “I really started becoming more in touch with, ‘Holy shit, what did I do? What did I see? What did I feel? What did I know?’” she said. Kramer never wrote the book, but since her October Facebook post, models have contacted her with more and more stories recalling sexual harassment and assault in the fashion world. Even before posting on social media, Kramer had started working with Ziff at Model Alliance to publicize industry abuse. The organization recently proposed\\xa0a program to address sexual misconduct in the fashion, entertainment and media industries that would, among other things, have a third party provide sexual harassment training and implement proper complaint procedures. But Kramer says agents still working in the business aren’t embracing her efforts. “A lot of people aren’t talking to me anymore because they know I’m on top of this,” she said. “They are afraid of losing their standing with these photographers and editors.” There are still many “Terry Richardsons” in the industry, Kramer said, men whose predatory behavior the fashion world ignores. “We all knew Terry Richardson was sexually abusing these girls and yet we still kept sending them on go-sees and to the bookings themselves,” she said. “If you’ve got a $20 million Revlon contract weighing in the balance ... yet you know Terry is abusing these girls, what do we do? Do we say no to Terry? No, [we] don’t.” Moving forward, Kramer believes that if executives at top agencies spoke out about malpractice, they could truly force industrywide change. Kramer also thinks agencies need to stop accepting models under 16, but at the very least,\\xa0she urges them to better protect young women against possible predators.\\xa0 “If I could get the owners to say to themselves, ‘Maybe we shouldn’t send 14-year-olds out on go-sees,’ and, ‘Maybe we should make sure these photographers that are on the blacklist are never alone with a model,’ I would feel my own shame and guilt for not having done more when I was an agent [slightly dissipate],” she said. “[Then] maybe I’d be able to let myself off the hook a little bit.” Do you have a story about harassment or discrimination that you’d like to share? Email: angelina.chapin@huffpost.com.'"
      ]
     },
     "execution_count": 178,
     "metadata": {},
     "output_type": "execute_result"
    }
   ],
   "source": [
    "data.content.iloc[0]"
   ]
  },
  {
   "cell_type": "code",
   "execution_count": 179,
   "metadata": {},
   "outputs": [
    {
     "data": {
      "text/plain": [
       "'Modeling Agencies Enabled Sexual Predators For Years, Former Agent Says. In October 2017, Carolyn Kramer received a disturbing phone call. The former modeling agent listened intently as a model she used to represent told her that a famous French photographer, who still shoots for top publications, raped her when she was 16. Shortly after meeting the man at a restaurant in 1983, the model said she blacked out after drinking one glass of champagne, then woke up in his bed the next morning with a sore and bruised vagina. The woman, who preferred to remain anonymous, confirmed this story with HuffPost, but did not want to name the photographer for fear of legal repercussions. “He was one of the photographers that agents and clients and young girls basically knew was lecherous,” Kramer said,\\xa0claiming that she and other agents sent their models to him in the ’80s anyway. “[But] what I didn’t realize [at the time] is that he was raping girls.”\\xa0 Kramer said she broke down crying after the woman relayed her story of assault. “In that moment I felt that I let down the models who I represented over the course of 20 years,” she said. “It made me feel like, here it is in front of my face now and I didn’t do anything to change [it.]” It’s been 14 years since Kramer left the fashion business. But throughout the two decades she spent working as a modeling agent in New York City in the 1980s, ’90s and early 2000s, Kramer said she knew about rampant sexual misconduct in her industry ―\\xa0and didn’t protect her models from the egregious behavior. Now, amid\\xa0the domino-like fall of so\\xa0many\\xa0high-profile\\xa0alleged sexual offenders, the 58-year-old\\xa0can’t stop thinking about how she and other agents sent girls, some as young as 13,\\xa0to modeling gigs with photographers who were rumored to be sexual predators. So in October, the former agent decided to speak out.\\xa0 “Many of these girls who are assaulted [as models] aren’t older than 15 years old,”\\xa0she wrote in a Facebook post. “And I stand here to say how ashamed I am of myself for not having had the tools or the resources or guts to stop it.” Kramer’s peers queued up in the post’s comments section to corroborate her story.\\xa0One of her former colleagues, ex-model Kristen Noel, said her agency, Elite Model Management, sent her to Paris in the early ’80s to stay with an agent who repeatedly groped and forcibly kissed her. She was 16. “Elite protected him and disconnected from their responsibility to me,” Noel told HuffPost.\\xa0 Another commenter, hair and makeup artist Dawn Jacobson, said she saw agencies regularly endanger models when she worked in Milan in the ’80s. According to her, companies sent young women to live in residences ― one of which was reportedly known as “Clitoride,” Italian for “clitoris” ―\\xa0where they were preyed on by wealthy Italian men. “I think the agencies have massive culpability because they don’t necessarily care about anything other than who gets the booking,” the 59-year-old, who still works in fashion, told HuffPost. “It becomes a little bit of a human trafficking kind of thing.” Kramer’s post,\\xa0her first public denouncement of the sexual harassment and abuse she’d witnessed and heard about in the fashion industry, clearly struck a nerve.\\xa0As the #MeToo revolution continues to spark a national dialogue on sexual misconduct, the former agent wants to expose exactly how the very modeling agencies she worked for enabled predators, a disturbing reality that she believes still exists today.\\xa0 Kramer, a New Jersey native, doesn’t seem like the type to stay silent. She has a self-described “big personality” and speaks bluntly with a slight New York accent.\\xa0In a recent Facebook profile photo, she’s wearing a shirt that reads “Fuck Trump” and raising her middle finger. But since she retired from the fashion world in 2004, Kramer said she felt like nobody ― primarily, the media ―\\xa0was interested in what she had to say.\\xa0 Only recently, the former agent noted, have news outlets begun systematically covering the kinds of abuse allegations she wants to condemn.\\xa0It’s true that sexual assault accusations made against fashion photographer Terry Richardson date back to 2001,\\xa0and that he was only officially dropped by certain top magazines and brands\\xa0in October 2017.\\xa0(Richardson has long denied any nonconsensual behavior.) And while at least 18 current and former male models\\xa0recently accused famed photographer Bruce Weber of sexual harassment (Weber has denied these claims), one of whom has filed a lawsuit, industry insiders claim there is a long list of predators who still thrive in a largely unregulated profession that combines young models, big male egos and drugs.\\xa0 Kramer’s story dates back to 1983, when she was hired by the industry’s top agency, Elite Model Management, as an assistant booking agent in New York. Her\\xa0previous fashion industry jobs had been horrible. Kramer once worked with a photographer who she said cornered her in his office and tried to forcibly kiss her. And she worked for\\xa0Foster-Fell Model Management,\\xa0which she called a “slimy, horrible” agency.  “The models were basically prostitutes,” she said. ”[The owner] would have parties I would be at with licentious business men who were only there to fuck the models.” (Jeremy Foster-Fell, who co-founded the now-defunct agency in 1970,\\xa0denied these claims to HuffPost. “To say there was an arrangement of financial exchange and sexual favors would be completely out of whack,” he said, adding, however, that “if you’re looking after a whole bunch of good-looking ladies who are running around Manhattan, you’re going to be running into trouble here and there sometimes.”)\\xa0 But at 24, Kramer found herself employed by the modeling world’s gold standard,\\xa0an agency that represented Cindy Crawford and Linda Evangelista,\\xa0where she didn’t expect to encounter abusive men. Her transition to Elite was “like going from community college to Harvard,” she said. Sadly,\\xa0Kramer’s optimism was quickly dashed.  At Elite New York,\\xa0her job frequently involved booking models on “go-sees,” the name for appointments during which photographers or designers scout new faces for upcoming shoots. In these meetings, vulnerable young women’s success often depends on impressing (mostly) powerful men. Kramer said she and other Elite agents would send models, who in many cases were under 16 and had never been to New York City, on appointments with nothing more than subway fare and a map. According to Kramer, the girls mostly went alone, because at the time there were no laws requiring guardians to accompany underage models on shoots. New York passed a bill in 2013 that, among other things, requires models under 16 to have chaperones. But before that, a 2012 study by Model Alliance, an organization that advocates for labor rights in fashion, found that 52 percent of models are rarely or never accompanied by guardians to a shoot, despite the fact that the majority of models start working between age 13 and 16. Kramer quickly learned about the perils of go-sees and photo shoots.\\xa0Though the former agent says that the models she represented at the time didn’t tell her directly about being sexually harassed or assaulted by photographers\\xa0― likely, she said, because they were terrified of losing job opportunities ― Kramer soon heard through industry gossip with colleagues who the predators were. “I wouldn’t have even called it a secret,” she said. “It was just sort of common hearsay that this list of photographers were pigs...I had to make the appointments with [these men]. It would make me gag, but I had to do my job or I’d be fired.”\\xa0 Another Elite employee,\\xa0Marie Anderson Boyd, who was an agent and vice president at the company’s Chicago office between 1985 and 1990, said models would regularly tell her about the sexual misconduct they experienced on go-sees. ”[Some photographers] will think nothing of walking over to some teen girl who’s brand new to the business, taking her top off, unbuttoning her bra and saying something like, ‘I want you to look at me and think of ... giving me oral sex,’” she said. “And a lot of girls have never even done that [before], so they don’t even know what the [photographers] mean.”  Anderson Boyd said she never told her managers at Elite about the models’ abusive stories, in part because executives like John Casablancas and Gerald Marie also allegedly engaged in misconduct. “They established a culture of compliance with sexually predatory behavior,” she said. “That trickled down into everything everybody did.”\\xa0 Indeed, during Kramer’s first year at Elite,\\xa0the agency’s late founder, the then-41-year-old Casablancas, was having a public affair with an underage model named Stephanie Seymour. Kramer was horrified that Casablancas, with his movie-star good looks and “intoxicating” charisma, was committing statutory rape.  “As a young little upstart, I was very in awe of him,” she said. “But at the same time I’m thinking to myself, Stephanie’s supposed to be at a Vogue shooting at 9 a.m. and she’s still in bed with John. I thought it was wrong and I honestly couldn’t believe it went on. It made me sick.” Other alleged abuses at Elite unfurled from there. Gerald Marie, the head of Elite Paris, was in his 30s when he\\xa0allegedly raped a 17-year-old model named Carré Otis on multiple occasions, which she detailed in her 2011 memoir. At the time, Otis was temporarily staying with him while she was modeling abroad in the mid-’80s. She didn’t feel as though she could tell the agency about the abuse.  “When [Elite] New York said goodbye to me and put me in Gerald’s apartment, he was like my new owner,” Otis told HuffPost. “There was no one in New York who created a connection with me and said, ‘Hey, here’s the way it should go, and if it doesn’t go this way, here’s a number to call.’ It was just really a hand-off.” “There was a below-the-radar understanding that the\\xa0[executives] of Elite [Casablancas and Marie] were sleeping with young women,” Kramer said. “I’m working at an agency where statutory rape is in front of my face and yet I can’t do anything.” Kramer said at 24 she herself was groped by a high-profile agent who went on to become an Elite executive. “I was sitting on his lap and his hands were all over me, coming around [my waist] and trying to grab my breast,” she said. “I didn’t react because I was so accustomed to seeing photographers be touchy-feely with models.” Kramer did not tell anyone at Elite about the misconduct, because she said it never occurred to her that such commonplace behavior was worth reporting, never mind addressing. And those who tried to call out problematic behavior didn’t get very far.\\xa0In 2000, Anderson Boyd told New York Magazine that she remembered watching\\xa0two female executives plead with Marie and Casablancas to stop sleeping with underage women.\\xa0Anderson Boyd says Marie’s response was, “We are men. We have our needs.” “I was grossed out by what was happening,” the 59-year-old told HuffPost. “And that’s why I quit.” Ultimately, Anderson Boyd and Kramer agreed that Elite never trained agents to speak with models about sexual misconduct. Both women say they and other agents they knew did not prepare models for how to deal with predatory behavior.\\xa0\\xa0 “It was not handled like a traditional corporation where you’re handed a sexual harassment manual,” Anderson Boyd said. “I did not know how to help [the models’] working conditions.” Their account matches the experiences of women at other agencies at the time. For example, when former model Lesa Amoore was 17, she said her agent at the now-defunct Riccardo Gay Model Management company warned her that a photographer she was about to shoot with in Milan could “be a little weird.” Amoore said that during the subsequent shoot, when she was wearing only a bra and underwear, the photographer unzipped his pants, pulled out his penis and asked whether he could masturbate. According to the former model, now 48, she put on her clothes and ran out of the room. Amoore said that when she told her agent about the photographer’s behavior, he responded,\\xa0“I’m so sorry, that happens sometimes with him.” Sara Ziff, who began modeling at age 14 in the late ’90s and later founded Model Alliance,\\xa0told The New York Times\\xa0last year that she too was regularly asked by photographers to get naked or topless without prior warning and, in at least one instance, was told to sit on her male booker’s lap.\\xa0 “When I first started modeling, I did not feel protected by my agency [Next Management],” she told HuffPost. “In some cases, I felt like they were facilitating meetings [with powerful people] that were not clearly work opportunities ― they felt more like being set up on a date.” Though the modeling industry is now\\xa0more regulated\\xa0than it was in decades past, abuse is reportedly still frequent.\\xa0A whopping 87 percent of models say they’ve been asked to get naked without prior warning, while 30 percent have experienced “inappropriate touching” on the job and 28 percent have been pressured to have sex at work, according to\\xa0Model Alliance. Model\\xa0Cameron Russell’s\\xa0Instagram\\xa0is filled with her own colleagues’ stories of being preyed on at go-sees and shoots. A 22-year-old model\\xa0wrote about\\xa0how a male photographer pulled down her bra and started kissing her breasts six months ago. Another woman\\xa0recalled\\xa0how, as a 14-year-old model, a photographer made her change in front of him, rubbed oil on her legs, and, after asking if she was a virgin, said, “You make me want to go to jail.” The collection of horror stories portrays male photographers\\xa0masturbating\\xa0in front of young models, asking for sexual favors, and, in one case,\\xa0penetrating\\xa0a 15-year-old with his finger to make the photos “look more sensual.” Ziff said that beyond adhering to the 2013 bill, even the best-intentioned agencies still don’t have firm policies in place to protect their models from sexual misconduct. “They tell the girls that if they are in a situation that feels uncomfortable: ‘Go to the bathroom and walk out,’ ‘Feel free to call me,’ and ‘You don’t have to do anything you don’t want to do,’” the 35-year-old explained. “[They should] take a preventative approach that doesn’t allow those situations to happen in the first place. It’s much easier said than done to walk out of a shoot, especially if you’re young, maybe English isn’t your first language, and you’re working with someone who could make or break your career.”\\xa0 In fact,\\xa0Model Alliance\\xa0found that 70 percent of models surveyed didn’t feel they could report sexual misconduct to their agencies. Of those who did,\\xa0two-thirds said\\xa0their agents didn’t consider the behavior problematic, and, in a few cases, even encouraged models to sleep with predators to advance their careers.\\xa0 Model Jason Boyce, who filed a lawsuit against Bruce Weber for sexual misconduct last year, is also suing his agency, Soul Artist Management. According to the court filing, Boyce claimed the agency knew about Weber’s predatory behavior and alleged that his agent told him to “nail” his shoot with the famous photographer. “The culture was: You did what you were told. That was how they sold it,” he said in an interview with\\xa0The Business of Fashion. “If you do what I tell you, you’ll make it. ... My agent told me that all the time.” Jilian Gotlib, a manager and booking agent who worked for Elite in the ’80s and re-joined the company in 2005, spoke to HuffPost on behalf of the organization. She disputed Kramer’s assertion that agents knowingly sent models to photographers who were rumored to be sexual predators, suggesting that Kramer\\xa0“goes overboard, maybe, with criticizing the industry.” “We would always be careful, check out [the photographer] and tell our models, ‘If [the photographers] ask you to do anything that we didn’t tell you was going to happen, let us know,’” she explained. “Some girls would just go ahead anyway, but we would always warn people: ‘Call me if anything seems untoward.’\\xa0I think we would try not to work with a lot of those photographers if we heard problems.” Trudi Tapscott, who worked as an agent and director at Elite from the early ’80s until the early ’90s,\\xa0reiterated Gotlib’s point, explaining that she told young women about potentially creepy photographers ahead of time.\\xa0“I’ve had very honest conversations [about] what to do when [photographers] do this and what to do when [photographers] do that,” she told HuffPost. However, Tapscott added: “At this point I consider [those conversations] complicit. But then I thought I was helping them survive, which sounds so stupid now.” As for alleged in-house predators such as Marie, Gotlib said, “I knew nothing about anything that might have been going on there.”\\xa0 Throughout her career Kramer worked at four other agencies ― the now-defunct Name Management and Company Management, as well as Next Management and the Marilyn Model Agency ― where she said she also regularly witnessed young girls being preyed on at dinner parties and clubs. She said agencies organized events at hot spots such as New York’s Indochine or the Ritz in Paris, where models mingled in clouds of cigarette smoke with important editors and photographers who could “make or break careers.” “I saw 14- and 15-year-olds sitting on the laps of these photographers,” she said. “These guys would just have their hands all over these girls.” Ultimately, Kramer said she didn’t think she could call out the complicit behavior without losing her job.\\xa0“Working for Elite [and the other agencies] manipulated me into thinking it was OK,” she said. “I’m not trying to squiggle out of this, by the way. I’m sick to my stomach that I was part of this poison. It sickens me.”\\xa0 Representatives for Next Management and the Marilyn Model Agency did not respond to HuffPost’s request for comment. Kramer left the industry in 2004 when she was working at the Marilyn Model Agency, saying she was disgusted by how young the models had become. But the former agent said she didn’t process the sexual misconduct ― or her role in enabling it ― until the following year, when she planned to\\xa0write a book about her career. “I really started becoming more in touch with, ‘Holy shit, what did I do? What did I see? What did I feel? What did I know?’” she said. Kramer never wrote the book, but since her October Facebook post, models have contacted her with more and more stories recalling sexual harassment and assault in the fashion world. Even before posting on social media, Kramer had started working with Ziff at Model Alliance to publicize industry abuse. The organization recently proposed\\xa0a program to address sexual misconduct in the fashion, entertainment and media industries that would, among other things, have a third party provide sexual harassment training and implement proper complaint procedures. But Kramer says agents still working in the business aren’t embracing her efforts. “A lot of people aren’t talking to me anymore because they know I’m on top of this,” she said. “They are afraid of losing their standing with these photographers and editors.” There are still many “Terry Richardsons” in the industry, Kramer said, men whose predatory behavior the fashion world ignores. “We all knew Terry Richardson was sexually abusing these girls and yet we still kept sending them on go-sees and to the bookings themselves,” she said. “If you’ve got a $20 million Revlon contract weighing in the balance ... yet you know Terry is abusing these girls, what do we do? Do we say no to Terry? No, [we] don’t.” Moving forward, Kramer believes that if executives at top agencies spoke out about malpractice, they could truly force industrywide change. Kramer also thinks agencies need to stop accepting models under 16, but at the very least,\\xa0she urges them to better protect young women against possible predators.\\xa0 “If I could get the owners to say to themselves, ‘Maybe we shouldn’t send 14-year-olds out on go-sees,’ and, ‘Maybe we should make sure these photographers that are on the blacklist are never alone with a model,’ I would feel my own shame and guilt for not having done more when I was an agent [slightly dissipate],” she said. “[Then] maybe I’d be able to let myself off the hook a little bit.” Do you have a story about harassment or discrimination that you’d like to share? Email: angelina.chapin@huffpost.com.'"
      ]
     },
     "execution_count": 179,
     "metadata": {},
     "output_type": "execute_result"
    }
   ],
   "source": [
    "docs = data[\"content\"].to_list()\n",
    "docs[0]"
   ]
  },
  {
   "cell_type": "code",
   "execution_count": 180,
   "metadata": {},
   "outputs": [
    {
     "data": {
      "text/plain": [
       "6872"
      ]
     },
     "execution_count": 180,
     "metadata": {},
     "output_type": "execute_result"
    }
   ],
   "source": [
    "len(docs)"
   ]
  },
  {
   "attachments": {},
   "cell_type": "markdown",
   "metadata": {},
   "source": [
    "<h1> Cleaning up the data"
   ]
  },
  {
   "attachments": {},
   "cell_type": "markdown",
   "metadata": {},
   "source": [
    "Removed this part as it is not advised to remove stopwords before feeding the docs to BERTopic, as they are used to create word embeddings. I instead did the cleaning inside the model. (cf Cleaning and Clustering Cells)"
   ]
  },
  {
   "cell_type": "code",
   "execution_count": 181,
   "metadata": {},
   "outputs": [],
   "source": [
    "# ## Remove stopwords\n",
    "# stopwordSet = set(stopwords.words(\"english\"))\n",
    "\n",
    "# ## NlP Processing\n",
    "# lemma = WordNetLemmatizer()\n",
    "\n",
    "# def cleanup_sentences(sentence):\n",
    "#     text = re.sub('[^a-zA-Z]',\" \", sentence) # Removing non a-z characters\n",
    "#     text = text.lower() # Lowering all text\n",
    "#     text = word_tokenize(text, language=\"english\") # Splitting each word into an element of a list\n",
    "#     text = [lemma.lemmatize(word) for word in text if(word) not in stopwordSet] # Lemmatizing words and removing stopwords\n",
    "#     text = \" \".join(text) # Putting words back into a single string. ['the', 'brown', 'cow'] --> 'the brown cow'\n",
    "#     return text\n",
    "\n",
    "# ## apply the function to the data \n",
    "# data['body_cleaned'] = data['body'].apply(cleanup_sentences)"
   ]
  },
  {
   "cell_type": "code",
   "execution_count": 182,
   "metadata": {},
   "outputs": [],
   "source": [
    "# docs = data[\"body_cleaned\"].to_list()\n",
    "# docs[0]"
   ]
  },
  {
   "attachments": {},
   "cell_type": "markdown",
   "metadata": {},
   "source": [
    "<h1> Cleaning and Clustering"
   ]
  },
  {
   "cell_type": "code",
   "execution_count": 183,
   "metadata": {},
   "outputs": [],
   "source": [
    "#Removing stopwords\n",
    "vectorizer_model = CountVectorizer(stop_words=\"english\")\n",
    "\n",
    "#Removing frequent words\n",
    "ctfidf_model = ClassTfidfTransformer(reduce_frequent_words=True)"
   ]
  },
  {
   "attachments": {},
   "cell_type": "markdown",
   "metadata": {},
   "source": [
    "Trying out Kmeans clustering as to not produce any outliers (which HBDscan does)"
   ]
  },
  {
   "cell_type": "code",
   "execution_count": 184,
   "metadata": {},
   "outputs": [],
   "source": [
    "N_topics = 30\n",
    "\n",
    "if kmean:\n",
    "    #Kmeans clustering\n",
    "    cluster_model = KMeans(n_clusters=N_topics)\n",
    "    model = BERTopic(hdbscan_model=cluster_model, language=\"english\", calculate_probabilities=False, vectorizer_model=vectorizer_model, ctfidf_model=ctfidf_model)\n",
    "else:\n",
    "    #HBDScan clustering\n",
    "    model = BERTopic(language=\"english\", calculate_probabilities=False, vectorizer_model=vectorizer_model, ctfidf_model=ctfidf_model)"
   ]
  },
  {
   "attachments": {},
   "cell_type": "markdown",
   "metadata": {},
   "source": [
    "<h1> Training"
   ]
  },
  {
   "cell_type": "code",
   "execution_count": 185,
   "metadata": {},
   "outputs": [],
   "source": [
    "## Running this cell takes about \n",
    "#   - 7 minutes for 30 topics\n",
    "#   - 11 for 14 topics\n",
    "topics = model.fit_transform(docs)"
   ]
  },
  {
   "cell_type": "code",
   "execution_count": 186,
   "metadata": {},
   "outputs": [
    {
     "data": {
      "text/html": [
       "<div>\n",
       "<style scoped>\n",
       "    .dataframe tbody tr th:only-of-type {\n",
       "        vertical-align: middle;\n",
       "    }\n",
       "\n",
       "    .dataframe tbody tr th {\n",
       "        vertical-align: top;\n",
       "    }\n",
       "\n",
       "    .dataframe thead th {\n",
       "        text-align: right;\n",
       "    }\n",
       "</style>\n",
       "<table border=\"1\" class=\"dataframe\">\n",
       "  <thead>\n",
       "    <tr style=\"text-align: right;\">\n",
       "      <th></th>\n",
       "      <th>Topic</th>\n",
       "      <th>Count</th>\n",
       "      <th>Name</th>\n",
       "    </tr>\n",
       "  </thead>\n",
       "  <tbody>\n",
       "    <tr>\n",
       "      <th>0</th>\n",
       "      <td>0</td>\n",
       "      <td>462</td>\n",
       "      <td>0_film_movie_season_infinity</td>\n",
       "    </tr>\n",
       "    <tr>\n",
       "      <th>1</th>\n",
       "      <td>1</td>\n",
       "      <td>392</td>\n",
       "      <td>1_trump_donald_colbert_meyers</td>\n",
       "    </tr>\n",
       "    <tr>\n",
       "      <th>2</th>\n",
       "      <td>2</td>\n",
       "      <td>369</td>\n",
       "      <td>2_art_artists_artist_museum</td>\n",
       "    </tr>\n",
       "    <tr>\n",
       "      <th>3</th>\n",
       "      <td>3</td>\n",
       "      <td>323</td>\n",
       "      <td>3_climate_energy_water_oo</td>\n",
       "    </tr>\n",
       "    <tr>\n",
       "      <th>4</th>\n",
       "      <td>4</td>\n",
       "      <td>306</td>\n",
       "      <td>4_muslim_muslims_jewish_white</td>\n",
       "    </tr>\n",
       "    <tr>\n",
       "      <th>5</th>\n",
       "      <td>5</td>\n",
       "      <td>290</td>\n",
       "      <td>5_women_men_womens_gender</td>\n",
       "    </tr>\n",
       "    <tr>\n",
       "      <th>6</th>\n",
       "      <td>6</td>\n",
       "      <td>281</td>\n",
       "      <td>6_police_cosby_officers_authorities</td>\n",
       "    </tr>\n",
       "    <tr>\n",
       "      <th>7</th>\n",
       "      <td>7</td>\n",
       "      <td>276</td>\n",
       "      <td>7_music_musical_theatre_broadway</td>\n",
       "    </tr>\n",
       "    <tr>\n",
       "      <th>8</th>\n",
       "      <td>8</td>\n",
       "      <td>263</td>\n",
       "      <td>8_apple_iphone_phone_security</td>\n",
       "    </tr>\n",
       "    <tr>\n",
       "      <th>9</th>\n",
       "      <td>9</td>\n",
       "      <td>262</td>\n",
       "      <td>9_church_jesus_religious_god</td>\n",
       "    </tr>\n",
       "    <tr>\n",
       "      <th>10</th>\n",
       "      <td>10</td>\n",
       "      <td>256</td>\n",
       "      <td>10_sexual_weinstein_harassment_women</td>\n",
       "    </tr>\n",
       "    <tr>\n",
       "      <th>11</th>\n",
       "      <td>11</td>\n",
       "      <td>249</td>\n",
       "      <td>11_nfl_players_game_sports</td>\n",
       "    </tr>\n",
       "    <tr>\n",
       "      <th>12</th>\n",
       "      <td>12</td>\n",
       "      <td>247</td>\n",
       "      <td>12_trump_giuliani_cohen_haspel</td>\n",
       "    </tr>\n",
       "    <tr>\n",
       "      <th>13</th>\n",
       "      <td>13</td>\n",
       "      <td>236</td>\n",
       "      <td>13_facebook_users_zuckerberg_content</td>\n",
       "    </tr>\n",
       "    <tr>\n",
       "      <th>14</th>\n",
       "      <td>14</td>\n",
       "      <td>233</td>\n",
       "      <td>14_schools_education_charter_students</td>\n",
       "    </tr>\n",
       "    <tr>\n",
       "      <th>15</th>\n",
       "      <td>15</td>\n",
       "      <td>229</td>\n",
       "      <td>15_immigration_abortion_democratic_care</td>\n",
       "    </tr>\n",
       "    <tr>\n",
       "      <th>16</th>\n",
       "      <td>16</td>\n",
       "      <td>227</td>\n",
       "      <td>16_animal_animals_pet_dogs</td>\n",
       "    </tr>\n",
       "    <tr>\n",
       "      <th>17</th>\n",
       "      <td>17</td>\n",
       "      <td>224</td>\n",
       "      <td>17_brain_youre_life_people</td>\n",
       "    </tr>\n",
       "    <tr>\n",
       "      <th>18</th>\n",
       "      <td>18</td>\n",
       "      <td>220</td>\n",
       "      <td>18_amazon_trade_jobs_tax</td>\n",
       "    </tr>\n",
       "    <tr>\n",
       "      <th>19</th>\n",
       "      <td>19</td>\n",
       "      <td>217</td>\n",
       "      <td>19_students_education_learning_school</td>\n",
       "    </tr>\n",
       "    <tr>\n",
       "      <th>20</th>\n",
       "      <td>20</td>\n",
       "      <td>211</td>\n",
       "      <td>20_news_fox_sinclair_moore</td>\n",
       "    </tr>\n",
       "    <tr>\n",
       "      <th>21</th>\n",
       "      <td>21</td>\n",
       "      <td>194</td>\n",
       "      <td>21_book_poetry_books_yiannopoulos</td>\n",
       "    </tr>\n",
       "    <tr>\n",
       "      <th>22</th>\n",
       "      <td>22</td>\n",
       "      <td>191</td>\n",
       "      <td>22_olympics_olympic_games_pyeongchang</td>\n",
       "    </tr>\n",
       "    <tr>\n",
       "      <th>23</th>\n",
       "      <td>23</td>\n",
       "      <td>170</td>\n",
       "      <td>23_gun_shooting_nra_school</td>\n",
       "    </tr>\n",
       "    <tr>\n",
       "      <th>24</th>\n",
       "      <td>24</td>\n",
       "      <td>163</td>\n",
       "      <td>24_nasa_mars_space_moon</td>\n",
       "    </tr>\n",
       "    <tr>\n",
       "      <th>25</th>\n",
       "      <td>25</td>\n",
       "      <td>145</td>\n",
       "      <td>25_species_whales_shark_dolphins</td>\n",
       "    </tr>\n",
       "    <tr>\n",
       "      <th>26</th>\n",
       "      <td>26</td>\n",
       "      <td>113</td>\n",
       "      <td>26_uber_drivers_ubers_kalanick</td>\n",
       "    </tr>\n",
       "    <tr>\n",
       "      <th>27</th>\n",
       "      <td>27</td>\n",
       "      <td>78</td>\n",
       "      <td>27_nassar_gymnastics_usa_nassars</td>\n",
       "    </tr>\n",
       "    <tr>\n",
       "      <th>28</th>\n",
       "      <td>28</td>\n",
       "      <td>24</td>\n",
       "      <td>28_extreme_weather_photos_headlines</td>\n",
       "    </tr>\n",
       "    <tr>\n",
       "      <th>29</th>\n",
       "      <td>29</td>\n",
       "      <td>21</td>\n",
       "      <td>29_loans_loan_repayment_student</td>\n",
       "    </tr>\n",
       "  </tbody>\n",
       "</table>\n",
       "</div>"
      ],
      "text/plain": [
       "    Topic  Count                                     Name\n",
       "0       0    462             0_film_movie_season_infinity\n",
       "1       1    392            1_trump_donald_colbert_meyers\n",
       "2       2    369              2_art_artists_artist_museum\n",
       "3       3    323                3_climate_energy_water_oo\n",
       "4       4    306            4_muslim_muslims_jewish_white\n",
       "5       5    290                5_women_men_womens_gender\n",
       "6       6    281      6_police_cosby_officers_authorities\n",
       "7       7    276         7_music_musical_theatre_broadway\n",
       "8       8    263            8_apple_iphone_phone_security\n",
       "9       9    262             9_church_jesus_religious_god\n",
       "10     10    256     10_sexual_weinstein_harassment_women\n",
       "11     11    249               11_nfl_players_game_sports\n",
       "12     12    247           12_trump_giuliani_cohen_haspel\n",
       "13     13    236     13_facebook_users_zuckerberg_content\n",
       "14     14    233    14_schools_education_charter_students\n",
       "15     15    229  15_immigration_abortion_democratic_care\n",
       "16     16    227               16_animal_animals_pet_dogs\n",
       "17     17    224               17_brain_youre_life_people\n",
       "18     18    220                 18_amazon_trade_jobs_tax\n",
       "19     19    217    19_students_education_learning_school\n",
       "20     20    211               20_news_fox_sinclair_moore\n",
       "21     21    194        21_book_poetry_books_yiannopoulos\n",
       "22     22    191    22_olympics_olympic_games_pyeongchang\n",
       "23     23    170               23_gun_shooting_nra_school\n",
       "24     24    163                  24_nasa_mars_space_moon\n",
       "25     25    145         25_species_whales_shark_dolphins\n",
       "26     26    113           26_uber_drivers_ubers_kalanick\n",
       "27     27     78         27_nassar_gymnastics_usa_nassars\n",
       "28     28     24      28_extreme_weather_photos_headlines\n",
       "29     29     21          29_loans_loan_repayment_student"
      ]
     },
     "execution_count": 186,
     "metadata": {},
     "output_type": "execute_result"
    }
   ],
   "source": [
    "model.get_topic_info()"
   ]
  },
  {
   "cell_type": "code",
   "execution_count": 187,
   "metadata": {},
   "outputs": [
    {
     "data": {
      "application/vnd.plotly.v1+json": {
       "config": {
        "plotlyServerURL": "https://plot.ly"
       },
       "data": [
        {
         "marker": {
          "color": "#D55E00"
         },
         "orientation": "h",
         "type": "bar",
         "x": [
          0.20824546318794154,
          0.21066174063761797,
          0.22861393211085693,
          0.24093371530846439,
          0.2432652528456977
         ],
         "xaxis": "x",
         "y": [
          "movies  ",
          "infinity  ",
          "season  ",
          "movie  ",
          "film  "
         ],
         "yaxis": "y"
        },
        {
         "marker": {
          "color": "#0072B2"
         },
         "orientation": "h",
         "type": "bar",
         "x": [
          0.317568656535118,
          0.32396970920713203,
          0.33532237726034453,
          0.3539802020733718,
          0.397403408706573
         ],
         "xaxis": "x2",
         "y": [
          "president  ",
          "meyers  ",
          "colbert  ",
          "donald  ",
          "trump  "
         ],
         "yaxis": "y2"
        },
        {
         "marker": {
          "color": "#CC79A7"
         },
         "orientation": "h",
         "type": "bar",
         "x": [
          0.25981300953565606,
          0.26310676983135056,
          0.28210580669285795,
          0.29709721331166794,
          0.3721903368768743
         ],
         "xaxis": "x3",
         "y": [
          "painting  ",
          "museum  ",
          "artist  ",
          "artists  ",
          "art  "
         ],
         "yaxis": "y3"
        },
        {
         "marker": {
          "color": "#E69F00"
         },
         "orientation": "h",
         "type": "bar",
         "x": [
          0.26154843777199865,
          0.27991368910133996,
          0.2849025632349629,
          0.2889476825777846,
          0.3832051575942394
         ],
         "xaxis": "x4",
         "y": [
          "oil  ",
          "oo  ",
          "water  ",
          "energy  ",
          "climate  "
         ],
         "yaxis": "y4"
        },
        {
         "marker": {
          "color": "#56B4E9"
         },
         "orientation": "h",
         "type": "bar",
         "x": [
          0.22158395862509095,
          0.2356220251866412,
          0.25140101752174887,
          0.26730226196533374,
          0.2910509785744567
         ],
         "xaxis": "x5",
         "y": [
          "jews  ",
          "white  ",
          "jewish  ",
          "muslims  ",
          "muslim  "
         ],
         "yaxis": "y5"
        },
        {
         "marker": {
          "color": "#009E73"
         },
         "orientation": "h",
         "type": "bar",
         "x": [
          0.20864786063853266,
          0.23229521709386236,
          0.24028274057993312,
          0.2675694254413444,
          0.3475987869138933
         ],
         "xaxis": "x6",
         "y": [
          "woman  ",
          "gender  ",
          "womens  ",
          "men  ",
          "women  "
         ],
         "yaxis": "y6"
        },
        {
         "marker": {
          "color": "#F0E442"
         },
         "orientation": "h",
         "type": "bar",
         "x": [
          0.2289022619438533,
          0.2390167412223086,
          0.24164718102186222,
          0.25354134351625934,
          0.3752751717146889
         ],
         "xaxis": "x7",
         "y": [
          "salman  ",
          "authorities  ",
          "officers  ",
          "cosby  ",
          "police  "
         ],
         "yaxis": "y7"
        },
        {
         "marker": {
          "color": "#D55E00"
         },
         "orientation": "h",
         "type": "bar",
         "x": [
          0.24021082087561005,
          0.24196950383419855,
          0.24716161636462325,
          0.2587566440383744,
          0.28179221192737175
         ],
         "xaxis": "x8",
         "y": [
          "play  ",
          "broadway  ",
          "theatre  ",
          "musical  ",
          "music  "
         ],
         "yaxis": "y8"
        }
       ],
       "layout": {
        "annotations": [
         {
          "font": {
           "size": 16
          },
          "showarrow": false,
          "text": "Topic 0",
          "x": 0.0875,
          "xanchor": "center",
          "xref": "paper",
          "y": 1,
          "yanchor": "bottom",
          "yref": "paper"
         },
         {
          "font": {
           "size": 16
          },
          "showarrow": false,
          "text": "Topic 1",
          "x": 0.36250000000000004,
          "xanchor": "center",
          "xref": "paper",
          "y": 1,
          "yanchor": "bottom",
          "yref": "paper"
         },
         {
          "font": {
           "size": 16
          },
          "showarrow": false,
          "text": "Topic 2",
          "x": 0.6375000000000001,
          "xanchor": "center",
          "xref": "paper",
          "y": 1,
          "yanchor": "bottom",
          "yref": "paper"
         },
         {
          "font": {
           "size": 16
          },
          "showarrow": false,
          "text": "Topic 3",
          "x": 0.9125,
          "xanchor": "center",
          "xref": "paper",
          "y": 1,
          "yanchor": "bottom",
          "yref": "paper"
         },
         {
          "font": {
           "size": 16
          },
          "showarrow": false,
          "text": "Topic 4",
          "x": 0.0875,
          "xanchor": "center",
          "xref": "paper",
          "y": 0.4,
          "yanchor": "bottom",
          "yref": "paper"
         },
         {
          "font": {
           "size": 16
          },
          "showarrow": false,
          "text": "Topic 5",
          "x": 0.36250000000000004,
          "xanchor": "center",
          "xref": "paper",
          "y": 0.4,
          "yanchor": "bottom",
          "yref": "paper"
         },
         {
          "font": {
           "size": 16
          },
          "showarrow": false,
          "text": "Topic 6",
          "x": 0.6375000000000001,
          "xanchor": "center",
          "xref": "paper",
          "y": 0.4,
          "yanchor": "bottom",
          "yref": "paper"
         },
         {
          "font": {
           "size": 16
          },
          "showarrow": false,
          "text": "Topic 7",
          "x": 0.9125,
          "xanchor": "center",
          "xref": "paper",
          "y": 0.4,
          "yanchor": "bottom",
          "yref": "paper"
         }
        ],
        "height": 500,
        "hoverlabel": {
         "bgcolor": "white",
         "font": {
          "family": "Rockwell",
          "size": 16
         }
        },
        "showlegend": false,
        "template": {
         "data": {
          "bar": [
           {
            "error_x": {
             "color": "#2a3f5f"
            },
            "error_y": {
             "color": "#2a3f5f"
            },
            "marker": {
             "line": {
              "color": "white",
              "width": 0.5
             },
             "pattern": {
              "fillmode": "overlay",
              "size": 10,
              "solidity": 0.2
             }
            },
            "type": "bar"
           }
          ],
          "barpolar": [
           {
            "marker": {
             "line": {
              "color": "white",
              "width": 0.5
             },
             "pattern": {
              "fillmode": "overlay",
              "size": 10,
              "solidity": 0.2
             }
            },
            "type": "barpolar"
           }
          ],
          "carpet": [
           {
            "aaxis": {
             "endlinecolor": "#2a3f5f",
             "gridcolor": "#C8D4E3",
             "linecolor": "#C8D4E3",
             "minorgridcolor": "#C8D4E3",
             "startlinecolor": "#2a3f5f"
            },
            "baxis": {
             "endlinecolor": "#2a3f5f",
             "gridcolor": "#C8D4E3",
             "linecolor": "#C8D4E3",
             "minorgridcolor": "#C8D4E3",
             "startlinecolor": "#2a3f5f"
            },
            "type": "carpet"
           }
          ],
          "choropleth": [
           {
            "colorbar": {
             "outlinewidth": 0,
             "ticks": ""
            },
            "type": "choropleth"
           }
          ],
          "contour": [
           {
            "colorbar": {
             "outlinewidth": 0,
             "ticks": ""
            },
            "colorscale": [
             [
              0,
              "#0d0887"
             ],
             [
              0.1111111111111111,
              "#46039f"
             ],
             [
              0.2222222222222222,
              "#7201a8"
             ],
             [
              0.3333333333333333,
              "#9c179e"
             ],
             [
              0.4444444444444444,
              "#bd3786"
             ],
             [
              0.5555555555555556,
              "#d8576b"
             ],
             [
              0.6666666666666666,
              "#ed7953"
             ],
             [
              0.7777777777777778,
              "#fb9f3a"
             ],
             [
              0.8888888888888888,
              "#fdca26"
             ],
             [
              1,
              "#f0f921"
             ]
            ],
            "type": "contour"
           }
          ],
          "contourcarpet": [
           {
            "colorbar": {
             "outlinewidth": 0,
             "ticks": ""
            },
            "type": "contourcarpet"
           }
          ],
          "heatmap": [
           {
            "colorbar": {
             "outlinewidth": 0,
             "ticks": ""
            },
            "colorscale": [
             [
              0,
              "#0d0887"
             ],
             [
              0.1111111111111111,
              "#46039f"
             ],
             [
              0.2222222222222222,
              "#7201a8"
             ],
             [
              0.3333333333333333,
              "#9c179e"
             ],
             [
              0.4444444444444444,
              "#bd3786"
             ],
             [
              0.5555555555555556,
              "#d8576b"
             ],
             [
              0.6666666666666666,
              "#ed7953"
             ],
             [
              0.7777777777777778,
              "#fb9f3a"
             ],
             [
              0.8888888888888888,
              "#fdca26"
             ],
             [
              1,
              "#f0f921"
             ]
            ],
            "type": "heatmap"
           }
          ],
          "heatmapgl": [
           {
            "colorbar": {
             "outlinewidth": 0,
             "ticks": ""
            },
            "colorscale": [
             [
              0,
              "#0d0887"
             ],
             [
              0.1111111111111111,
              "#46039f"
             ],
             [
              0.2222222222222222,
              "#7201a8"
             ],
             [
              0.3333333333333333,
              "#9c179e"
             ],
             [
              0.4444444444444444,
              "#bd3786"
             ],
             [
              0.5555555555555556,
              "#d8576b"
             ],
             [
              0.6666666666666666,
              "#ed7953"
             ],
             [
              0.7777777777777778,
              "#fb9f3a"
             ],
             [
              0.8888888888888888,
              "#fdca26"
             ],
             [
              1,
              "#f0f921"
             ]
            ],
            "type": "heatmapgl"
           }
          ],
          "histogram": [
           {
            "marker": {
             "pattern": {
              "fillmode": "overlay",
              "size": 10,
              "solidity": 0.2
             }
            },
            "type": "histogram"
           }
          ],
          "histogram2d": [
           {
            "colorbar": {
             "outlinewidth": 0,
             "ticks": ""
            },
            "colorscale": [
             [
              0,
              "#0d0887"
             ],
             [
              0.1111111111111111,
              "#46039f"
             ],
             [
              0.2222222222222222,
              "#7201a8"
             ],
             [
              0.3333333333333333,
              "#9c179e"
             ],
             [
              0.4444444444444444,
              "#bd3786"
             ],
             [
              0.5555555555555556,
              "#d8576b"
             ],
             [
              0.6666666666666666,
              "#ed7953"
             ],
             [
              0.7777777777777778,
              "#fb9f3a"
             ],
             [
              0.8888888888888888,
              "#fdca26"
             ],
             [
              1,
              "#f0f921"
             ]
            ],
            "type": "histogram2d"
           }
          ],
          "histogram2dcontour": [
           {
            "colorbar": {
             "outlinewidth": 0,
             "ticks": ""
            },
            "colorscale": [
             [
              0,
              "#0d0887"
             ],
             [
              0.1111111111111111,
              "#46039f"
             ],
             [
              0.2222222222222222,
              "#7201a8"
             ],
             [
              0.3333333333333333,
              "#9c179e"
             ],
             [
              0.4444444444444444,
              "#bd3786"
             ],
             [
              0.5555555555555556,
              "#d8576b"
             ],
             [
              0.6666666666666666,
              "#ed7953"
             ],
             [
              0.7777777777777778,
              "#fb9f3a"
             ],
             [
              0.8888888888888888,
              "#fdca26"
             ],
             [
              1,
              "#f0f921"
             ]
            ],
            "type": "histogram2dcontour"
           }
          ],
          "mesh3d": [
           {
            "colorbar": {
             "outlinewidth": 0,
             "ticks": ""
            },
            "type": "mesh3d"
           }
          ],
          "parcoords": [
           {
            "line": {
             "colorbar": {
              "outlinewidth": 0,
              "ticks": ""
             }
            },
            "type": "parcoords"
           }
          ],
          "pie": [
           {
            "automargin": true,
            "type": "pie"
           }
          ],
          "scatter": [
           {
            "fillpattern": {
             "fillmode": "overlay",
             "size": 10,
             "solidity": 0.2
            },
            "type": "scatter"
           }
          ],
          "scatter3d": [
           {
            "line": {
             "colorbar": {
              "outlinewidth": 0,
              "ticks": ""
             }
            },
            "marker": {
             "colorbar": {
              "outlinewidth": 0,
              "ticks": ""
             }
            },
            "type": "scatter3d"
           }
          ],
          "scattercarpet": [
           {
            "marker": {
             "colorbar": {
              "outlinewidth": 0,
              "ticks": ""
             }
            },
            "type": "scattercarpet"
           }
          ],
          "scattergeo": [
           {
            "marker": {
             "colorbar": {
              "outlinewidth": 0,
              "ticks": ""
             }
            },
            "type": "scattergeo"
           }
          ],
          "scattergl": [
           {
            "marker": {
             "colorbar": {
              "outlinewidth": 0,
              "ticks": ""
             }
            },
            "type": "scattergl"
           }
          ],
          "scattermapbox": [
           {
            "marker": {
             "colorbar": {
              "outlinewidth": 0,
              "ticks": ""
             }
            },
            "type": "scattermapbox"
           }
          ],
          "scatterpolar": [
           {
            "marker": {
             "colorbar": {
              "outlinewidth": 0,
              "ticks": ""
             }
            },
            "type": "scatterpolar"
           }
          ],
          "scatterpolargl": [
           {
            "marker": {
             "colorbar": {
              "outlinewidth": 0,
              "ticks": ""
             }
            },
            "type": "scatterpolargl"
           }
          ],
          "scatterternary": [
           {
            "marker": {
             "colorbar": {
              "outlinewidth": 0,
              "ticks": ""
             }
            },
            "type": "scatterternary"
           }
          ],
          "surface": [
           {
            "colorbar": {
             "outlinewidth": 0,
             "ticks": ""
            },
            "colorscale": [
             [
              0,
              "#0d0887"
             ],
             [
              0.1111111111111111,
              "#46039f"
             ],
             [
              0.2222222222222222,
              "#7201a8"
             ],
             [
              0.3333333333333333,
              "#9c179e"
             ],
             [
              0.4444444444444444,
              "#bd3786"
             ],
             [
              0.5555555555555556,
              "#d8576b"
             ],
             [
              0.6666666666666666,
              "#ed7953"
             ],
             [
              0.7777777777777778,
              "#fb9f3a"
             ],
             [
              0.8888888888888888,
              "#fdca26"
             ],
             [
              1,
              "#f0f921"
             ]
            ],
            "type": "surface"
           }
          ],
          "table": [
           {
            "cells": {
             "fill": {
              "color": "#EBF0F8"
             },
             "line": {
              "color": "white"
             }
            },
            "header": {
             "fill": {
              "color": "#C8D4E3"
             },
             "line": {
              "color": "white"
             }
            },
            "type": "table"
           }
          ]
         },
         "layout": {
          "annotationdefaults": {
           "arrowcolor": "#2a3f5f",
           "arrowhead": 0,
           "arrowwidth": 1
          },
          "autotypenumbers": "strict",
          "coloraxis": {
           "colorbar": {
            "outlinewidth": 0,
            "ticks": ""
           }
          },
          "colorscale": {
           "diverging": [
            [
             0,
             "#8e0152"
            ],
            [
             0.1,
             "#c51b7d"
            ],
            [
             0.2,
             "#de77ae"
            ],
            [
             0.3,
             "#f1b6da"
            ],
            [
             0.4,
             "#fde0ef"
            ],
            [
             0.5,
             "#f7f7f7"
            ],
            [
             0.6,
             "#e6f5d0"
            ],
            [
             0.7,
             "#b8e186"
            ],
            [
             0.8,
             "#7fbc41"
            ],
            [
             0.9,
             "#4d9221"
            ],
            [
             1,
             "#276419"
            ]
           ],
           "sequential": [
            [
             0,
             "#0d0887"
            ],
            [
             0.1111111111111111,
             "#46039f"
            ],
            [
             0.2222222222222222,
             "#7201a8"
            ],
            [
             0.3333333333333333,
             "#9c179e"
            ],
            [
             0.4444444444444444,
             "#bd3786"
            ],
            [
             0.5555555555555556,
             "#d8576b"
            ],
            [
             0.6666666666666666,
             "#ed7953"
            ],
            [
             0.7777777777777778,
             "#fb9f3a"
            ],
            [
             0.8888888888888888,
             "#fdca26"
            ],
            [
             1,
             "#f0f921"
            ]
           ],
           "sequentialminus": [
            [
             0,
             "#0d0887"
            ],
            [
             0.1111111111111111,
             "#46039f"
            ],
            [
             0.2222222222222222,
             "#7201a8"
            ],
            [
             0.3333333333333333,
             "#9c179e"
            ],
            [
             0.4444444444444444,
             "#bd3786"
            ],
            [
             0.5555555555555556,
             "#d8576b"
            ],
            [
             0.6666666666666666,
             "#ed7953"
            ],
            [
             0.7777777777777778,
             "#fb9f3a"
            ],
            [
             0.8888888888888888,
             "#fdca26"
            ],
            [
             1,
             "#f0f921"
            ]
           ]
          },
          "colorway": [
           "#636efa",
           "#EF553B",
           "#00cc96",
           "#ab63fa",
           "#FFA15A",
           "#19d3f3",
           "#FF6692",
           "#B6E880",
           "#FF97FF",
           "#FECB52"
          ],
          "font": {
           "color": "#2a3f5f"
          },
          "geo": {
           "bgcolor": "white",
           "lakecolor": "white",
           "landcolor": "white",
           "showlakes": true,
           "showland": true,
           "subunitcolor": "#C8D4E3"
          },
          "hoverlabel": {
           "align": "left"
          },
          "hovermode": "closest",
          "mapbox": {
           "style": "light"
          },
          "paper_bgcolor": "white",
          "plot_bgcolor": "white",
          "polar": {
           "angularaxis": {
            "gridcolor": "#EBF0F8",
            "linecolor": "#EBF0F8",
            "ticks": ""
           },
           "bgcolor": "white",
           "radialaxis": {
            "gridcolor": "#EBF0F8",
            "linecolor": "#EBF0F8",
            "ticks": ""
           }
          },
          "scene": {
           "xaxis": {
            "backgroundcolor": "white",
            "gridcolor": "#DFE8F3",
            "gridwidth": 2,
            "linecolor": "#EBF0F8",
            "showbackground": true,
            "ticks": "",
            "zerolinecolor": "#EBF0F8"
           },
           "yaxis": {
            "backgroundcolor": "white",
            "gridcolor": "#DFE8F3",
            "gridwidth": 2,
            "linecolor": "#EBF0F8",
            "showbackground": true,
            "ticks": "",
            "zerolinecolor": "#EBF0F8"
           },
           "zaxis": {
            "backgroundcolor": "white",
            "gridcolor": "#DFE8F3",
            "gridwidth": 2,
            "linecolor": "#EBF0F8",
            "showbackground": true,
            "ticks": "",
            "zerolinecolor": "#EBF0F8"
           }
          },
          "shapedefaults": {
           "line": {
            "color": "#2a3f5f"
           }
          },
          "ternary": {
           "aaxis": {
            "gridcolor": "#DFE8F3",
            "linecolor": "#A2B1C6",
            "ticks": ""
           },
           "baxis": {
            "gridcolor": "#DFE8F3",
            "linecolor": "#A2B1C6",
            "ticks": ""
           },
           "bgcolor": "white",
           "caxis": {
            "gridcolor": "#DFE8F3",
            "linecolor": "#A2B1C6",
            "ticks": ""
           }
          },
          "title": {
           "x": 0.05
          },
          "xaxis": {
           "automargin": true,
           "gridcolor": "#EBF0F8",
           "linecolor": "#EBF0F8",
           "ticks": "",
           "title": {
            "standoff": 15
           },
           "zerolinecolor": "#EBF0F8",
           "zerolinewidth": 2
          },
          "yaxis": {
           "automargin": true,
           "gridcolor": "#EBF0F8",
           "linecolor": "#EBF0F8",
           "ticks": "",
           "title": {
            "standoff": 15
           },
           "zerolinecolor": "#EBF0F8",
           "zerolinewidth": 2
          }
         }
        },
        "title": {
         "font": {
          "color": "Black",
          "size": 22
         },
         "text": "Topic Word Scores",
         "x": 0.5,
         "xanchor": "center",
         "yanchor": "top"
        },
        "width": 1000,
        "xaxis": {
         "anchor": "y",
         "domain": [
          0,
          0.175
         ],
         "showgrid": true
        },
        "xaxis2": {
         "anchor": "y2",
         "domain": [
          0.275,
          0.45
         ],
         "showgrid": true
        },
        "xaxis3": {
         "anchor": "y3",
         "domain": [
          0.55,
          0.7250000000000001
         ],
         "showgrid": true
        },
        "xaxis4": {
         "anchor": "y4",
         "domain": [
          0.825,
          1
         ],
         "showgrid": true
        },
        "xaxis5": {
         "anchor": "y5",
         "domain": [
          0,
          0.175
         ],
         "showgrid": true
        },
        "xaxis6": {
         "anchor": "y6",
         "domain": [
          0.275,
          0.45
         ],
         "showgrid": true
        },
        "xaxis7": {
         "anchor": "y7",
         "domain": [
          0.55,
          0.7250000000000001
         ],
         "showgrid": true
        },
        "xaxis8": {
         "anchor": "y8",
         "domain": [
          0.825,
          1
         ],
         "showgrid": true
        },
        "yaxis": {
         "anchor": "x",
         "domain": [
          0.6000000000000001,
          1
         ],
         "showgrid": true
        },
        "yaxis2": {
         "anchor": "x2",
         "domain": [
          0.6000000000000001,
          1
         ],
         "showgrid": true
        },
        "yaxis3": {
         "anchor": "x3",
         "domain": [
          0.6000000000000001,
          1
         ],
         "showgrid": true
        },
        "yaxis4": {
         "anchor": "x4",
         "domain": [
          0.6000000000000001,
          1
         ],
         "showgrid": true
        },
        "yaxis5": {
         "anchor": "x5",
         "domain": [
          0,
          0.4
         ],
         "showgrid": true
        },
        "yaxis6": {
         "anchor": "x6",
         "domain": [
          0,
          0.4
         ],
         "showgrid": true
        },
        "yaxis7": {
         "anchor": "x7",
         "domain": [
          0,
          0.4
         ],
         "showgrid": true
        },
        "yaxis8": {
         "anchor": "x8",
         "domain": [
          0,
          0.4
         ],
         "showgrid": true
        }
       }
      }
     },
     "metadata": {},
     "output_type": "display_data"
    }
   ],
   "source": [
    "model.visualize_barchart(top_n_topics=8)"
   ]
  },
  {
   "cell_type": "code",
   "execution_count": 188,
   "metadata": {},
   "outputs": [
    {
     "data": {
      "text/plain": [
       "['0_film_movie_season',\n",
       " '1_trump_donald_colbert',\n",
       " '2_art_artists_artist',\n",
       " '3_climate_energy_water',\n",
       " '4_muslim_muslims_jewish',\n",
       " '5_women_men_womens',\n",
       " '6_police_cosby_officers',\n",
       " '7_music_musical_theatre',\n",
       " '8_apple_iphone_phone',\n",
       " '9_church_jesus_religious',\n",
       " '10_sexual_weinstein_harassment',\n",
       " '11_nfl_players_game',\n",
       " '12_trump_giuliani_cohen',\n",
       " '13_facebook_users_zuckerberg',\n",
       " '14_schools_education_charter',\n",
       " '15_immigration_abortion_democratic',\n",
       " '16_animal_animals_pet',\n",
       " '17_brain_youre_life',\n",
       " '18_amazon_trade_jobs',\n",
       " '19_students_education_learning',\n",
       " '20_news_fox_sinclair',\n",
       " '21_book_poetry_books',\n",
       " '22_olympics_olympic_games',\n",
       " '23_gun_shooting_nra',\n",
       " '24_nasa_mars_space',\n",
       " '25_species_whales_shark',\n",
       " '26_uber_drivers_ubers',\n",
       " '27_nassar_gymnastics_usa',\n",
       " '28_extreme_weather_photos',\n",
       " '29_loans_loan_repayment']"
      ]
     },
     "execution_count": 188,
     "metadata": {},
     "output_type": "execute_result"
    }
   ],
   "source": [
    "model.generate_topic_labels()"
   ]
  },
  {
   "attachments": {},
   "cell_type": "markdown",
   "metadata": {},
   "source": [
    "<h1> Topic Reduction"
   ]
  },
  {
   "cell_type": "code",
   "execution_count": 189,
   "metadata": {},
   "outputs": [],
   "source": [
    "# model.reduce_topics(docs, nr_topics=20)"
   ]
  },
  {
   "attachments": {},
   "cell_type": "markdown",
   "metadata": {},
   "source": [
    "<h1> Saving Model"
   ]
  },
  {
   "cell_type": "code",
   "execution_count": 190,
   "metadata": {},
   "outputs": [
    {
     "name": "stderr",
     "output_type": "stream",
     "text": [
      "c:\\Users\\julie\\anaconda3\\lib\\site-packages\\scipy\\sparse\\_index.py:146: SparseEfficiencyWarning:\n",
      "\n",
      "Changing the sparsity structure of a csr_matrix is expensive. lil_matrix is more efficient.\n",
      "\n"
     ]
    }
   ],
   "source": [
    "model.save(\"../../my_BERTopic\")"
   ]
  },
  {
   "attachments": {},
   "cell_type": "markdown",
   "metadata": {},
   "source": [
    "<h1> Prediction"
   ]
  },
  {
   "cell_type": "code",
   "execution_count": 191,
   "metadata": {},
   "outputs": [],
   "source": [
    "model = BERTopic.load(\"../../my_BERTopic\")"
   ]
  },
  {
   "cell_type": "code",
   "execution_count": 192,
   "metadata": {},
   "outputs": [],
   "source": [
    "article_test1 = [\"The collapse of Silicon Valley Bank (SVB), the biggest bank failure since 2008, has sparked alarm across the world as governments try to assess its impact on tech start-ups, other financial institutions and even pension funds. On Monday, US president Joe Biden assured Americans the nation\\’s banking system was safe, telling them: \\“Your deposits will be there when you need them\\\". US regulators announced steps on Sunday to protect customers and prevent more bank runs after they seized and shut down another struggling lender, crypto-friendly Signature Bank. While SVB was the go-to lender for Silicon Valley venture capitalists and tech firms, including Etsy and Roblox, it also helped fund companies on the other side of the Atlantic, leaving them scrambling to figure out how to access their deposits and manage their finances\"]"
   ]
  },
  {
   "cell_type": "code",
   "execution_count": 193,
   "metadata": {},
   "outputs": [],
   "source": [
    "article_test2 = [\"The exhibition brings together around one hundred works, among them never-before-seen paintings and drawings by Monet, Sisley, Pissarro and Renoir, as well as books of colours, fabric swatches, Japanese prints, archive documents and a host of family photographs. The dynamic portrait that Claude Monet painted of his older brother in 1874, a vibrant illustration of the brothers\\’ deeply affectionate bond, is also presented for the very first time. Curator Lefebvre spent nearly two years tracking it down. Painted in 1874, the year of Claude\\’s first show and Leon\\’s debut as an industrialist in Rouen, it depicts a well-off man in a black suit and top hat (see above). According to the family, the portrait was initially painted outdoors with the intention of finishing it at Monet\\’s atelier. But visiting Renoir and Sisley advised their friend to leave it as is. Leon Monet didn\\’t agree and hid the painting until his death.\"]"
   ]
  },
  {
   "cell_type": "code",
   "execution_count": 194,
   "metadata": {},
   "outputs": [],
   "source": [
    "article_test3 = [\"Amnesty International released a new report today, entitled “My Eye Exploded”: The global abuse of Kinetic Impact Projectiles, which documents the use of “non-lethal” anti-riot weapons by police across the globe.The report found that the deployment of Kinetic Impact Projectiles (KIPs), a term which encompasses a variety of weapons including plastic and rubber bullets, has led to “thousands of injuries across the world – including permanent disabilities and scores of deaths”.Along with 30 other organisations, Amnesty International called for the creation of a “robust Torture-Free Trade Treaty” to ban the use of “inherently abusive law enforcement equipment”, and to restrict the trade of such weapons, given the “gaps” that exist in current legislation. After spending five years researching the impact of KIPs in over 30 countries, Amnesty International found that thousands of protesters and bystanders have been injured, and dozens killed as a result of authorities using these weapons.\"]"
   ]
  },
  {
   "cell_type": "code",
   "execution_count": 195,
   "metadata": {},
   "outputs": [],
   "source": [
    "article_test4 = [\"China must openly condemn Russia's invasion of Ukraine as illegal before engaging in any moderation efforts to bring the war to an end, NATO Secretary General Jens Stoltenberg has said. \\\"It is for Ukraine to decide what are acceptable conditions for any peaceful solution,\\\" Stoltenberg said on Tuesday. \\\"China therefore needs to start to understand Ukraine's perspective and to engage with President Zelenskyy directly if it wants to be serious about peace.\\\" His comments come as Chinese President Xi Jinping meets with Russian President Vladimir Putin in Moscow, a visit closely watched by Western allies who worry China might be preparing to step up its military aid to Russia, whose economy is under heavy international sanctions.\"]"
   ]
  },
  {
   "cell_type": "code",
   "execution_count": 196,
   "metadata": {},
   "outputs": [],
   "source": [
    "topic, _ = model.transform(article_test4)"
   ]
  },
  {
   "cell_type": "code",
   "execution_count": 197,
   "metadata": {},
   "outputs": [
    {
     "data": {
      "text/plain": [
       "[18]"
      ]
     },
     "execution_count": 197,
     "metadata": {},
     "output_type": "execute_result"
    }
   ],
   "source": [
    "topic"
   ]
  },
  {
   "cell_type": "code",
   "execution_count": 198,
   "metadata": {},
   "outputs": [
    {
     "data": {
      "text/plain": [
       "0    18_amazon_trade_jobs_tax\n",
       "Name: Name, dtype: object"
      ]
     },
     "execution_count": 198,
     "metadata": {},
     "output_type": "execute_result"
    }
   ],
   "source": [
    "model.get_topic_info(topic[0])[\"Name\"]"
   ]
  },
  {
   "cell_type": "code",
   "execution_count": 199,
   "metadata": {},
   "outputs": [
    {
     "data": {
      "text/plain": [
       "0    8_apple_iphone_phone_security\n",
       "Name: Name, dtype: object"
      ]
     },
     "execution_count": 199,
     "metadata": {},
     "output_type": "execute_result"
    }
   ],
   "source": [
    "topic = model.transform(article_test1)[0]\n",
    "\n",
    "model.get_topic_info(topic[0])[\"Name\"]\n",
    "#Should give something like bank"
   ]
  },
  {
   "cell_type": "code",
   "execution_count": 200,
   "metadata": {},
   "outputs": [
    {
     "data": {
      "text/plain": [
       "0    2_art_artists_artist_museum\n",
       "Name: Name, dtype: object"
      ]
     },
     "execution_count": 200,
     "metadata": {},
     "output_type": "execute_result"
    }
   ],
   "source": [
    "topic = model.transform(article_test2)[0]\n",
    "\n",
    "model.get_topic_info(topic[0])[\"Name\"]\n",
    "#Should give something like art"
   ]
  },
  {
   "cell_type": "code",
   "execution_count": 201,
   "metadata": {},
   "outputs": [
    {
     "data": {
      "text/plain": [
       "0    13_facebook_users_zuckerberg_content\n",
       "Name: Name, dtype: object"
      ]
     },
     "execution_count": 201,
     "metadata": {},
     "output_type": "execute_result"
    }
   ],
   "source": [
    "topic = model.transform(article_test3)[0]\n",
    "\n",
    "model.get_topic_info(topic[0])[\"Name\"]\n",
    "\n",
    "#Should give something like police"
   ]
  },
  {
   "cell_type": "code",
   "execution_count": 210,
   "metadata": {},
   "outputs": [],
   "source": [
    "topic = model.transform(article_test4)[0]\n",
    "\n",
    "topic_name = model.get_topic_info(topic[0])[\"Name\"][0]\n",
    "#Should give something like war"
   ]
  },
  {
   "cell_type": "code",
   "execution_count": 212,
   "metadata": {},
   "outputs": [],
   "source": [
    "key_words = topic_name.split('_')"
   ]
  },
  {
   "cell_type": "code",
   "execution_count": 214,
   "metadata": {},
   "outputs": [
    {
     "data": {
      "text/plain": [
       "'18'"
      ]
     },
     "execution_count": 214,
     "metadata": {},
     "output_type": "execute_result"
    }
   ],
   "source": [
    "key_words.pop(0)"
   ]
  },
  {
   "cell_type": "code",
   "execution_count": 215,
   "metadata": {},
   "outputs": [
    {
     "data": {
      "text/plain": [
       "['amazon', 'trade', 'jobs', 'tax']"
      ]
     },
     "execution_count": 215,
     "metadata": {},
     "output_type": "execute_result"
    }
   ],
   "source": [
    "key_words"
   ]
  },
  {
   "cell_type": "code",
   "execution_count": 203,
   "metadata": {},
   "outputs": [],
   "source": [
    "article_list = [article_test1[0], article_test2[0], article_test3[0], article_test4[0]]\n",
    "\n",
    "prediction = model.transform(article_list)"
   ]
  },
  {
   "cell_type": "code",
   "execution_count": 204,
   "metadata": {},
   "outputs": [
    {
     "data": {
      "text/plain": [
       "([8, 2, 13, 18], None)"
      ]
     },
     "execution_count": 204,
     "metadata": {},
     "output_type": "execute_result"
    }
   ],
   "source": [
    "prediction"
   ]
  },
  {
   "attachments": {},
   "cell_type": "markdown",
   "metadata": {},
   "source": [
    "<h1> Heatmap"
   ]
  },
  {
   "cell_type": "code",
   "execution_count": 205,
   "metadata": {},
   "outputs": [],
   "source": [
    "data_pred = data.copy()\n",
    "\n",
    "topic_df = pd.DataFrame({'bertopic prediction':topics[0]})"
   ]
  },
  {
   "cell_type": "code",
   "execution_count": 206,
   "metadata": {},
   "outputs": [],
   "source": [
    "data_pred = data_pred.join(topic_df)"
   ]
  },
  {
   "cell_type": "code",
   "execution_count": 207,
   "metadata": {},
   "outputs": [
    {
     "name": "stdout",
     "output_type": "stream",
     "text": [
      "['ARTS & CULTURE' 'BUSINESS' 'COMEDY' 'CRIME' 'EDUCATION' 'ENTERTAINMENT'\n",
      " 'ENVIRONMENT' 'MEDIA' 'POLITICS' 'RELIGION' 'SCIENCE' 'SPORTS' 'TECH'\n",
      " 'WOMEN']\n"
     ]
    }
   ],
   "source": [
    "categories = data_pred[\"category\"].unique()\n",
    "print(categories)"
   ]
  },
  {
   "cell_type": "code",
   "execution_count": 208,
   "metadata": {},
   "outputs": [],
   "source": [
    "count_category_array = np.zeros((len(categories), N_topics))\n",
    "\n",
    "for i in range(len(categories)):\n",
    "    for j in range(N_topics):\n",
    "        count_category_array[i,j] = len(data_pred[(data_pred[\"category\"]== categories[i]) & (data_pred[\"bertopic prediction\"]==j)])\n"
   ]
  },
  {
   "cell_type": "code",
   "execution_count": 209,
   "metadata": {},
   "outputs": [
    {
     "data": {
      "image/png": "[encoded data removed]",
      "text/plain": [
       "<Figure size 640x480 with 2 Axes>"
      ]
     },
     "metadata": {},
     "output_type": "display_data"
    }
   ],
   "source": [
    "ax = sns.heatmap(count_category_array, cmap='YlGnBu', yticklabels=categories, xticklabels=np.arange(N_topics))"
   ]
  },
  {
   "cell_type": "code",
   "execution_count": null,
   "metadata": {},
   "outputs": [],
   "source": []
  }
 ],
 "metadata": {
  "kernelspec": {
   "display_name": "base",
   "language": "python",
   "name": "python3"
  },
  "language_info": {
   "codemirror_mode": {
    "name": "ipython",
    "version": 3
   },
   "file_extension": ".py",
   "mimetype": "text/x-python",
   "name": "python",
   "nbconvert_exporter": "python",
   "pygments_lexer": "ipython3",
   "version": "3.9.13"
  },
  "orig_nbformat": 4
 },
 "nbformat": 4,
 "nbformat_minor": 2
}
